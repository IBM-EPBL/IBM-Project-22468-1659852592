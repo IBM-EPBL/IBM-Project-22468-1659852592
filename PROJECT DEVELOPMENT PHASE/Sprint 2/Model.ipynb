{
  "nbformat": 4,
  "nbformat_minor": 0,
  "metadata": {
    "colab": {
      "provenance": []
    },
    "kernelspec": {
      "name": "python3",
      "display_name": "Python 3"
    },
    "language_info": {
      "name": "python"
    }
  },
  "cells": [
    {
      "cell_type": "code",
      "source": [
        "from google.colab import drive\n",
        "drive.mount('/content/drive')"
      ],
      "metadata": {
        "colab": {
          "base_uri": "https://localhost:8080/"
        },
        "id": "voUHzQ1SdcHa",
        "outputId": "67e3c46e-16ac-4f96-9455-0c534c625e32"
      },
      "execution_count": 25,
      "outputs": [
        {
          "output_type": "stream",
          "name": "stdout",
          "text": [
            "Drive already mounted at /content/drive; to attempt to forcibly remount, call drive.mount(\"/content/drive\", force_remount=True).\n"
          ]
        }
      ]
    },
    {
      "cell_type": "markdown",
      "source": [
        "Importing packages"
      ],
      "metadata": {
        "id": "qZ3mxwfL_URI"
      }
    },
    {
      "cell_type": "code",
      "source": [
        "import numpy as np\n",
        "import tensorflow\n",
        "from tensorflow.keras.models import Sequential\n",
        "from tensorflow.keras import layers\n",
        "from tensorflow.keras.layers import Dense,Flatten, Dropout\n",
        "from tensorflow.keras.layers import Conv2D,MaxPooling2D\n",
        "from keras.preprocessing.image import ImageDataGenerator"
      ],
      "metadata": {
        "id": "L9BnP3Lo_XNz"
      },
      "execution_count": 26,
      "outputs": []
    },
    {
      "cell_type": "markdown",
      "source": [
        "Data Augmentation"
      ],
      "metadata": {
        "id": "Jl_n_igp_fim"
      }
    },
    {
      "cell_type": "code",
      "source": [
        "train_datagen = ImageDataGenerator(rescale=1./255, shear_range=0.2, zoom_range=0.2, horizontal_flip=True)\n",
        "test_datagen = ImageDataGenerator(rescale=1./255)"
      ],
      "metadata": {
        "id": "E15G4cPs_i8s"
      },
      "execution_count": 27,
      "outputs": []
    },
    {
      "cell_type": "code",
      "source": [
        "x_train=train_datagen.flow_from_directory(r'/content/drive/MyDrive/IBM project/Dataset/train',target_size=(64,64),class_mode='categorical',batch_size=3,color_mode='grayscale')"
      ],
      "metadata": {
        "colab": {
          "base_uri": "https://localhost:8080/"
        },
        "id": "RHB2gKJr_wBl",
        "outputId": "ab359725-deae-4137-a92d-eeec73e64bdf"
      },
      "execution_count": 28,
      "outputs": [
        {
          "output_type": "stream",
          "name": "stdout",
          "text": [
            "Found 594 images belonging to 6 classes.\n"
          ]
        }
      ]
    },
    {
      "cell_type": "code",
      "source": [
        "x_test=test_datagen.flow_from_directory(r'/content/drive/MyDrive/IBM project/Dataset/test',target_size=(64,64),color_mode='grayscale',class_mode='categorical',batch_size=3)"
      ],
      "metadata": {
        "colab": {
          "base_uri": "https://localhost:8080/"
        },
        "id": "BfHexo1TAmuu",
        "outputId": "372e3b9e-d9f2-48cd-9c82-8198864e18da"
      },
      "execution_count": 29,
      "outputs": [
        {
          "output_type": "stream",
          "name": "stdout",
          "text": [
            "Found 30 images belonging to 6 classes.\n"
          ]
        }
      ]
    },
    {
      "cell_type": "code",
      "source": [
        "print(x_train.class_indices)"
      ],
      "metadata": {
        "colab": {
          "base_uri": "https://localhost:8080/"
        },
        "id": "NtzaPVNOBCTI",
        "outputId": "10610e44-724f-4dde-aad8-1bfe4933dfe5"
      },
      "execution_count": 30,
      "outputs": [
        {
          "output_type": "stream",
          "name": "stdout",
          "text": [
            "{'0': 0, '1': 1, '2': 2, '3': 3, '4': 4, '5': 5}\n"
          ]
        }
      ]
    },
    {
      "cell_type": "markdown",
      "source": [
        "Model building"
      ],
      "metadata": {
        "id": "QEIz_P6YBF3O"
      }
    },
    {
      "cell_type": "code",
      "source": [
        "model=Sequential()"
      ],
      "metadata": {
        "id": "sEeBNwfABJ-t"
      },
      "execution_count": 31,
      "outputs": []
    },
    {
      "cell_type": "markdown",
      "source": [
        "Adding CNN layers"
      ],
      "metadata": {
        "id": "at9rq1SiBTIj"
      }
    },
    {
      "cell_type": "code",
      "source": [
        "model.add(Conv2D(32, (3, 3), input_shape=(64, 64, 1), activation='relu'))\n",
        "model.add(MaxPooling2D(pool_size=(2, 2)))\n",
        "model.add(Conv2D(32, (3, 3), activation='relu'))\n",
        "model.add(MaxPooling2D(pool_size=(2, 2)))\n",
        "model.add(Flatten())"
      ],
      "metadata": {
        "id": "FN6Lvn3CBVFR"
      },
      "execution_count": 32,
      "outputs": []
    },
    {
      "cell_type": "markdown",
      "source": [
        "Adding dense layers"
      ],
      "metadata": {
        "id": "3vhQPN3fBYYr"
      }
    },
    {
      "cell_type": "code",
      "source": [
        "model.add(Dense(units=512, activation='relu'))\n",
        "model.add(Dense(units=6, activation='softmax'))\n",
        "model.summary()"
      ],
      "metadata": {
        "colab": {
          "base_uri": "https://localhost:8080/"
        },
        "id": "6Df17nn4BaRe",
        "outputId": "187912d6-c92c-4104-a63e-cea0a082bdc0"
      },
      "execution_count": 33,
      "outputs": [
        {
          "output_type": "stream",
          "name": "stdout",
          "text": [
            "Model: \"sequential_1\"\n",
            "_________________________________________________________________\n",
            " Layer (type)                Output Shape              Param #   \n",
            "=================================================================\n",
            " conv2d_2 (Conv2D)           (None, 62, 62, 32)        320       \n",
            "                                                                 \n",
            " max_pooling2d_2 (MaxPooling  (None, 31, 31, 32)       0         \n",
            " 2D)                                                             \n",
            "                                                                 \n",
            " conv2d_3 (Conv2D)           (None, 29, 29, 32)        9248      \n",
            "                                                                 \n",
            " max_pooling2d_3 (MaxPooling  (None, 14, 14, 32)       0         \n",
            " 2D)                                                             \n",
            "                                                                 \n",
            " flatten_1 (Flatten)         (None, 6272)              0         \n",
            "                                                                 \n",
            " dense_2 (Dense)             (None, 512)               3211776   \n",
            "                                                                 \n",
            " dense_3 (Dense)             (None, 6)                 3078      \n",
            "                                                                 \n",
            "=================================================================\n",
            "Total params: 3,224,422\n",
            "Trainable params: 3,224,422\n",
            "Non-trainable params: 0\n",
            "_________________________________________________________________\n"
          ]
        }
      ]
    },
    {
      "cell_type": "markdown",
      "source": [
        "Configure the learning process"
      ],
      "metadata": {
        "id": "YYQP8R1hBiJk"
      }
    },
    {
      "cell_type": "code",
      "source": [
        "model.compile(optimizer='adam', loss='categorical_crossentropy', metrics=['accuracy'])"
      ],
      "metadata": {
        "id": "oQyQf96DBkvx"
      },
      "execution_count": 34,
      "outputs": []
    },
    {
      "cell_type": "markdown",
      "source": [
        "Train the model"
      ],
      "metadata": {
        "id": "6NraggtFBuzv"
      }
    },
    {
      "cell_type": "code",
      "source": [
        "model.fit_generator(x_train,\n",
        "                    steps_per_epoch =594/3,\n",
        "                    epochs=25,\n",
        "                    validation_data=x_test,\n",
        "                    validation_steps=30/3)"
      ],
      "metadata": {
        "colab": {
          "base_uri": "https://localhost:8080/"
        },
        "id": "41N3_gtzBwXF",
        "outputId": "3151a012-650d-4d4f-9834-973675ed95b5"
      },
      "execution_count": 10,
      "outputs": [
        {
          "output_type": "stream",
          "name": "stderr",
          "text": [
            "/usr/local/lib/python3.7/dist-packages/ipykernel_launcher.py:5: UserWarning: `Model.fit_generator` is deprecated and will be removed in a future version. Please use `Model.fit`, which supports generators.\n",
            "  \"\"\"\n"
          ]
        },
        {
          "output_type": "stream",
          "name": "stdout",
          "text": [
            "Epoch 1/25\n",
            "198/198 [==============================] - 185s 930ms/step - loss: 1.2918 - accuracy: 0.4764 - val_loss: 0.9235 - val_accuracy: 0.7333\n",
            "Epoch 2/25\n",
            "198/198 [==============================] - 7s 35ms/step - loss: 0.5866 - accuracy: 0.7710 - val_loss: 0.4597 - val_accuracy: 0.8667\n",
            "Epoch 3/25\n",
            "198/198 [==============================] - 7s 35ms/step - loss: 0.3476 - accuracy: 0.8519 - val_loss: 0.2851 - val_accuracy: 0.9333\n",
            "Epoch 4/25\n",
            "198/198 [==============================] - 7s 35ms/step - loss: 0.2582 - accuracy: 0.9007 - val_loss: 0.3239 - val_accuracy: 0.9000\n",
            "Epoch 5/25\n",
            "198/198 [==============================] - 7s 36ms/step - loss: 0.2003 - accuracy: 0.9226 - val_loss: 0.3095 - val_accuracy: 0.8333\n",
            "Epoch 6/25\n",
            "198/198 [==============================] - 7s 35ms/step - loss: 0.1458 - accuracy: 0.9428 - val_loss: 0.1051 - val_accuracy: 0.9667\n",
            "Epoch 7/25\n",
            "198/198 [==============================] - 7s 35ms/step - loss: 0.1140 - accuracy: 0.9545 - val_loss: 0.3428 - val_accuracy: 0.9000\n",
            "Epoch 8/25\n",
            "198/198 [==============================] - 8s 40ms/step - loss: 0.1293 - accuracy: 0.9444 - val_loss: 0.1551 - val_accuracy: 0.9667\n",
            "Epoch 9/25\n",
            "198/198 [==============================] - 7s 35ms/step - loss: 0.1279 - accuracy: 0.9579 - val_loss: 0.3318 - val_accuracy: 0.9000\n",
            "Epoch 10/25\n",
            "198/198 [==============================] - 7s 35ms/step - loss: 0.1199 - accuracy: 0.9579 - val_loss: 0.1924 - val_accuracy: 0.9333\n",
            "Epoch 11/25\n",
            "198/198 [==============================] - 7s 34ms/step - loss: 0.0752 - accuracy: 0.9714 - val_loss: 0.3601 - val_accuracy: 0.9667\n",
            "Epoch 12/25\n",
            "198/198 [==============================] - 8s 40ms/step - loss: 0.0869 - accuracy: 0.9781 - val_loss: 0.2914 - val_accuracy: 0.9333\n",
            "Epoch 13/25\n",
            "198/198 [==============================] - 7s 35ms/step - loss: 0.0441 - accuracy: 0.9848 - val_loss: 0.2832 - val_accuracy: 0.9333\n",
            "Epoch 14/25\n",
            "198/198 [==============================] - 7s 35ms/step - loss: 0.0187 - accuracy: 0.9949 - val_loss: 0.3001 - val_accuracy: 0.9667\n",
            "Epoch 15/25\n",
            "198/198 [==============================] - 8s 40ms/step - loss: 0.0720 - accuracy: 0.9815 - val_loss: 0.1991 - val_accuracy: 0.9000\n",
            "Epoch 16/25\n",
            "198/198 [==============================] - 7s 36ms/step - loss: 0.1111 - accuracy: 0.9579 - val_loss: 0.3444 - val_accuracy: 0.9667\n",
            "Epoch 17/25\n",
            "198/198 [==============================] - 7s 35ms/step - loss: 0.0595 - accuracy: 0.9714 - val_loss: 0.2802 - val_accuracy: 0.9667\n",
            "Epoch 18/25\n",
            "198/198 [==============================] - 7s 35ms/step - loss: 0.0227 - accuracy: 0.9933 - val_loss: 0.2844 - val_accuracy: 0.9667\n",
            "Epoch 19/25\n",
            "198/198 [==============================] - 7s 35ms/step - loss: 0.0034 - accuracy: 1.0000 - val_loss: 0.2671 - val_accuracy: 0.9667\n",
            "Epoch 20/25\n",
            "198/198 [==============================] - 8s 39ms/step - loss: 0.0733 - accuracy: 0.9781 - val_loss: 0.4329 - val_accuracy: 0.9000\n",
            "Epoch 21/25\n",
            "198/198 [==============================] - 7s 35ms/step - loss: 0.0265 - accuracy: 0.9916 - val_loss: 0.3575 - val_accuracy: 0.9667\n",
            "Epoch 22/25\n",
            "198/198 [==============================] - 7s 35ms/step - loss: 0.0274 - accuracy: 0.9848 - val_loss: 0.4722 - val_accuracy: 0.9333\n",
            "Epoch 23/25\n",
            "198/198 [==============================] - 7s 36ms/step - loss: 0.0024 - accuracy: 1.0000 - val_loss: 0.4573 - val_accuracy: 0.9333\n",
            "Epoch 24/25\n",
            "198/198 [==============================] - 7s 35ms/step - loss: 0.0040 - accuracy: 0.9983 - val_loss: 0.4973 - val_accuracy: 0.9000\n",
            "Epoch 25/25\n",
            "198/198 [==============================] - 7s 35ms/step - loss: 0.0802 - accuracy: 0.9663 - val_loss: 0.4813 - val_accuracy: 0.9667\n"
          ]
        },
        {
          "output_type": "execute_result",
          "data": {
            "text/plain": [
              "<keras.callbacks.History at 0x7f06f7e5eed0>"
            ]
          },
          "metadata": {},
          "execution_count": 10
        }
      ]
    },
    {
      "cell_type": "markdown",
      "source": [
        "Save the model"
      ],
      "metadata": {
        "id": "X8q0rSgmDkBK"
      }
    },
    {
      "cell_type": "code",
      "source": [
        "model.save('ges.h5')\n",
        "model_json = model.to_json()\n",
        "with open(\"model-bw.json\", \"w\") as json_file:\n",
        "     json_file.write(model_json)"
      ],
      "metadata": {
        "id": "sOFhRnUaDlit"
      },
      "execution_count": 11,
      "outputs": []
    },
    {
      "cell_type": "markdown",
      "source": [
        "Model testing\n"
      ],
      "metadata": {
        "id": "HKa77-XYDwXB"
      }
    },
    {
      "cell_type": "code",
      "source": [
        "import numpy as np\n",
        "from tensorflow.keras.models import load_model\n",
        "from tensorflow.keras.preprocessing import image\n",
        "model = load_model(\"ges.h5\")\n",
        "img = image.load_img(r'/content/drive/MyDrive/IBM project/Dataset/test/0/1.jpg', grayscale=True, target_size=(64,64),color_mode='grayscale')\n",
        "x = image.img_to_array(img)\n",
        "x.shape"
      ],
      "metadata": {
        "colab": {
          "base_uri": "https://localhost:8080/"
        },
        "id": "Zhy-LdZsDykt",
        "outputId": "3e5f718f-52ef-43e3-e4e3-23d9090fe53d"
      },
      "execution_count": 16,
      "outputs": [
        {
          "output_type": "execute_result",
          "data": {
            "text/plain": [
              "(64, 64, 1)"
            ]
          },
          "metadata": {},
          "execution_count": 16
        }
      ]
    },
    {
      "cell_type": "code",
      "source": [
        "x = np.expand_dims(x,axis=0)\n",
        "x.shape"
      ],
      "metadata": {
        "colab": {
          "base_uri": "https://localhost:8080/"
        },
        "id": "NRTxHakyEfoc",
        "outputId": "deadca0e-a870-4462-98f0-ef7659ae7709"
      },
      "execution_count": 17,
      "outputs": [
        {
          "output_type": "execute_result",
          "data": {
            "text/plain": [
              "(1, 64, 64, 1)"
            ]
          },
          "metadata": {},
          "execution_count": 17
        }
      ]
    },
    {
      "cell_type": "code",
      "source": [
        "pred_x = model.predict(x)\n",
        "pred_x=np.argmax(pred_x,axis=1)\n",
        "pred_x"
      ],
      "metadata": {
        "colab": {
          "base_uri": "https://localhost:8080/"
        },
        "id": "kWuPbN4zEjpb",
        "outputId": "0cb79e9c-5690-4d81-e5bc-951a6a4474f1"
      },
      "execution_count": 19,
      "outputs": [
        {
          "output_type": "stream",
          "name": "stdout",
          "text": [
            "1/1 [==============================] - 0s 15ms/step\n"
          ]
        },
        {
          "output_type": "execute_result",
          "data": {
            "text/plain": [
              "array([0])"
            ]
          },
          "metadata": {},
          "execution_count": 19
        }
      ]
    },
    {
      "cell_type": "code",
      "source": [
        "index=['0', '1', '2', '3', '4', '5']\n",
        "result=str(index[pred_x[0]])\n",
        "result"
      ],
      "metadata": {
        "colab": {
          "base_uri": "https://localhost:8080/",
          "height": 36
        },
        "id": "PNNgSJ0GE9sz",
        "outputId": "b2d14011-cd11-40f5-9d41-c85098639019"
      },
      "execution_count": 20,
      "outputs": [
        {
          "output_type": "execute_result",
          "data": {
            "text/plain": [
              "'0'"
            ],
            "application/vnd.google.colaboratory.intrinsic+json": {
              "type": "string"
            }
          },
          "metadata": {},
          "execution_count": 20
        }
      ]
    }
  ]
}